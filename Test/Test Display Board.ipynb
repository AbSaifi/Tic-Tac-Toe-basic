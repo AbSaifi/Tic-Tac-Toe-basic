{
 "cells": [
  {
   "cell_type": "markdown",
   "metadata": {},
   "source": [
    "<html>\n",
    "<body>\n",
    "       \n",
    "<p>    \n",
    "1. Script to test display board function<br>\n",
    "2. Accepts a list of 10 items<br>    \n",
    "3.Adjust the items in list to test    \n",
    " </p>\n",
    " \n",
    " </body>\n",
    " </html>"
   ]
  },
  {
   "cell_type": "code",
   "execution_count": 1,
   "metadata": {},
   "outputs": [],
   "source": [
    "def display_board(p_list):\n",
    "    v_list = p_list\n",
    "    \n",
    "    if len(v_list) < 10:\n",
    "        for i in range (len(v_list),10):\n",
    "            v_list.append(\" \")\n",
    "    \n",
    "    #print(v_list)\n",
    "    #Q1\n",
    "    print(' '.ljust(1,' '), end = \" \") \n",
    "    print('{0}'.format(v_list[1]), end = \" \")\n",
    "    print('|'.rjust(2,' '), end = \" \") \n",
    "    \n",
    "    #Q2\n",
    "    \n",
    "    print(' '.ljust(1,' '), end = \" \") \n",
    "    print('{0}'.format(v_list[2]), end = \" \")\n",
    "    print('|'.rjust(3,' '),end = \" \") \n",
    "    \n",
    "    #Q3\n",
    "    \n",
    "    print(' '.ljust(1,' '), end = \" \") \n",
    "    print('{0}'.format(v_list[3]))\n",
    "    #print('|'.rjust(2,' '))     \n",
    "    \n",
    "    print(\"---------------------\")\n",
    "    \n",
    "    #Q4\n",
    "    print(' '.ljust(1,' '), end = \" \") \n",
    "    print('{0}'.format(v_list[4]), end = \" \")\n",
    "    print('|'.rjust(2,' '), end = \" \") \n",
    "    \n",
    "    #Q5\n",
    "    \n",
    "    print(' '.ljust(1,' '), end = \" \") \n",
    "    print('{0}'.format(v_list[5]), end = \" \")\n",
    "    print('|'.rjust(3,' '),end = \" \") \n",
    "    \n",
    "    #Q6\n",
    "    \n",
    "    print(' '.ljust(1,' '), end = \" \") \n",
    "    print('{0}'.format(v_list[6]))\n",
    "    #print('|'.rjust(2,' '))     \n",
    "    \n",
    "    print(\"---------------------\")\n",
    "    \n",
    "    #Q7\n",
    "    print(' '.ljust(1,' '), end = \" \") \n",
    "    print('{0}'.format(v_list[7]), end = \" \")\n",
    "    print('|'.rjust(2,' '), end = \" \") \n",
    "    \n",
    "    #Q8\n",
    "    \n",
    "    print(' '.ljust(1,' '), end = \" \") \n",
    "    print('{0}'.format(v_list[8]), end = \" \")\n",
    "    print('|'.rjust(3,' '),end = \" \") \n",
    "    \n",
    "    #Q9\n",
    "    \n",
    "    print(' '.ljust(1,' '), end = \" \") \n",
    "    print('{0}'.format(v_list[9]))\n",
    "    #print('|'.rjust(2,' '))"
   ]
  },
  {
   "cell_type": "code",
   "execution_count": null,
   "metadata": {},
   "outputs": [],
   "source": [
    "#lst = ['','O','O','X','O','X','O','X','O','O']\n",
    "#lst = ['','','','','','','','','','']\n",
    "lst = ['',' ','O','X','O','X']\n",
    "display_board(lst)"
   ]
  }
 ],
 "metadata": {
  "kernelspec": {
   "display_name": "Python 3",
   "language": "python",
   "name": "python3"
  },
  "language_info": {
   "codemirror_mode": {
    "name": "ipython",
    "version": 3
   },
   "file_extension": ".py",
   "mimetype": "text/x-python",
   "name": "python",
   "nbconvert_exporter": "python",
   "pygments_lexer": "ipython3",
   "version": "3.7.3"
  }
 },
 "nbformat": 4,
 "nbformat_minor": 2
}
