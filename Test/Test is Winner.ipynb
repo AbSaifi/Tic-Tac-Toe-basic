{
 "cells": [
  {
   "cell_type": "markdown",
   "metadata": {},
   "source": [
    "<html>\n",
    "<body>\n",
    "       \n",
    "<p>    \n",
    "1. Script to test is winner function<br>\n",
    " </p>\n",
    " \n",
    " </body>\n",
    " </html>"
   ]
  },
  {
   "cell_type": "code",
   "execution_count": 3,
   "metadata": {},
   "outputs": [],
   "source": [
    "def is_winner(p_var1,p_var2,p_var3,*argsv):\n",
    "    v_num = 1\n",
    "    v_list =list(argsv)\n",
    "    #print(argsv)\n",
    "    #print(v_list)\n",
    "    if p_var1 in ('X','O') and p_var2 in ('X','O') and p_var3 in ('X','O'):\n",
    "        if p_var1 == p_var2 and p_var2 == p_var3:\n",
    "            return 'Y'\n",
    "        else:   \n",
    "            for i in v_list:\n",
    "                #print(i)\n",
    "                if v_num == 1:\n",
    "                    v_num = v_num + 1\n",
    "                    pass\n",
    "                else:\n",
    "                    #print(i)\n",
    "                    if i not in ('X','O'):\n",
    "                        return 'N'\n",
    "            return 'D'\n",
    "    else:\n",
    "        return 'N'    "
   ]
  },
  {
   "cell_type": "code",
   "execution_count": null,
   "metadata": {},
   "outputs": [],
   "source": [
    "#lst = ['','O','O','X','O','X','O','X','O','O']\n",
    "#lst = ['','O','1','','','','','','','']\n",
    "lst = ['', 'O', 'X', 'O', 'X', 'O', 'X', '', '', 'O']\n",
    "is_winner('X','O','X',*lst)"
   ]
  }
 ],
 "metadata": {
  "kernelspec": {
   "display_name": "Python 3",
   "language": "python",
   "name": "python3"
  },
  "language_info": {
   "codemirror_mode": {
    "name": "ipython",
    "version": 3
   },
   "file_extension": ".py",
   "mimetype": "text/x-python",
   "name": "python",
   "nbconvert_exporter": "python",
   "pygments_lexer": "ipython3",
   "version": "3.7.3"
  }
 },
 "nbformat": 4,
 "nbformat_minor": 2
}
